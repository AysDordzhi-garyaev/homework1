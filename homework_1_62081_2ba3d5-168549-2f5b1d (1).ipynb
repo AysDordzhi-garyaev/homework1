{
 "cells": [
  {
   "cell_type": "markdown",
   "metadata": {},
   "source": [
    "# <center> Homework 1 </center>"
   ]
  },
  {
   "cell_type": "markdown",
   "metadata": {},
   "source": [
    "# 0. Где мы сейчас?\n",
    "<img src=\"https://upload.wikimedia.org/wikipedia/commons/thumb/3/38/Jupyter_logo.svg/1200px-Jupyter_logo.svg.png\" width=\"150\">\n",
    "\n",
    "[Jupyter Notebook](https://jupyter.org/) - интерактивная среда для запуска программного кода в браузере. Удобный инструмент для анализа данных, который используется многими специалистами по data science. Позволяет выполнять отдельные ячейки с кодом, а не всю программу сразу, что очень удобно при знакомстве с данными."
   ]
  },
  {
   "cell_type": "markdown",
   "metadata": {},
   "source": [
    "# 1. Python\n",
    "> Python - это свободный интерпретируемый объектно-ориентированный расширяемый встраиваемый язык программирования очень высокого уровня \n",
    "\n",
    ">*(Г.Россум, Ф.Л.Дж.Дрейк, Д.С.Откидач \"Язык программирования Python\").*\n",
    "\n",
    "А если без цитат, то питон - это просто очень крутой язык, созданный в 1991 году [Великодушным пожизненным диктатором](https://ru.wikipedia.org/wiki/%D0%92%D0%B5%D0%BB%D0%B8%D0%BA%D0%BE%D0%B4%D1%83%D1%88%D0%BD%D1%8B%D0%B9_%D0%BF%D0%BE%D0%B6%D0%B8%D0%B7%D0%BD%D0%B5%D0%BD%D0%BD%D1%8B%D0%B9_%D0%B4%D0%B8%D0%BA%D1%82%D0%B0%D1%82%D0%BE%D1%80) Гвидо ван Россумом и названный в честь любимого им шоу [Monty Python's Flying Circus](https://en.wikipedia.org/wiki/Monty_Python%27s_Flying_Circus)\n",
    "\n",
    "<img src=\"https://advancelocal-adapter-image-uploads.s3.amazonaws.com/image.oregonlive.com/home/olive-media/width2048/img/tv/photo/2018/10/10/montycastjpg-7ef393e2355a42aa.jpg\" width=\"300\">"
   ]
  },
  {
   "cell_type": "markdown",
   "metadata": {},
   "source": [
    "# 2. Anaconda\n",
    "\n",
    "<img src=\"https://cdn-images-1.medium.com/max/1600/0*MVkCW8_Bmj-nuAnI.png\" width=\"300\">\n",
    "\n",
    "[Сборка Anaconda](https://www.anaconda.com/products/individual) включает очень много полезных библиотек для анализа данных. \n",
    "\n",
    "Среди наиболее популярных библиотек:\n",
    " - <a href=\"http://numpy.org\">Numpy</a> - это один из основных пакетов для математических вычислений. Он содержит средства для работы с многомерными массивами и высокоуровневыми математическими функциями\n",
    " - <a href=\"https://www.scipy.org/\">SciPy</a> - научные вычисления. Методы оптимизации, интегрирования, модули обработки сигналов и изображений, статистика, линейная алгебра, сплайны, кластеризация и многое другое\n",
    " -  <a href=\"http://pandas.pydata.org/\">Pandas</a> - основная библиотека для обработки и анализа данных. Предназначена для данных разной природы - матричных, панельных данных, временных рядов. Претендует на звание самого мощного и гибкого средства для анализа данных с открытым исходным кодом\n",
    " - <a href=\"http://scikit-learn.org/stable/\">Scikit-learn</a> - реализация очень многих методов машинного обучения с отличной документацией. \n",
    " - <a href=\"http://http://matplotlib.org/\">matplotlib</a> - хорошая библиотека для визуализации данных"
   ]
  },
  {
   "cell_type": "markdown",
   "metadata": {},
   "source": [
    "# 3. Задачки"
   ]
  },
  {
   "cell_type": "markdown",
   "metadata": {},
   "source": [
    "## Задача 1\n",
    "$N$ хоббитов делят $K$ кусков эльфийского хлеба поровну, не делящийся нацело остаток остается в корзинке у Сэма. Напишите функцию, которая принимает на вход параметры $N$ и $K$ и возвращает два числа: $x$ - cколько кусков эльфиского хлеба достанется каждому хоббиту, и $y$ - сколько кусков остаётся в корзинке."
   ]
  },
  {
   "cell_type": "code",
   "execution_count": 1,
   "metadata": {},
   "outputs": [],
   "source": [
    "def share_bread(N, K):\n",
    "        if N>=K:\n",
    "            x=0\n",
    "            y=N\n",
    "        if N<K:\n",
    "            x=round(K//N)\n",
    "            y=K-x*N\n",
    "        return x, y\n",
    "\n",
    "# если в функции всё верно, то после выполнения этой строчки, не должно выскакивать ошибок\n",
    "assert share_bread(N=3, K=14) == (4, 2)"
   ]
  },
  {
   "cell_type": "markdown",
   "metadata": {},
   "source": [
    "## Задача 2\n",
    "\n",
    "В копях Мории хоббиты нашли стену, на которой высечены разные натуральные числа. Согласно древним сказаниям, это даты сражений. Хоббиты знают, что сражения происходили только по високосным годам. Помогите хоббитам определить, является ли год с данным числом датой великого сражения. Если это так, то верните строку \"YOU SHALL PASS\", иначе верните \"YOU SHALL NOT PASS\". Напомним, что в соответствии с хоббитским календарем, год является високосным, если его номер кратен 4, но не кратен 100, а также если он кратен 400."
   ]
  },
  {
   "cell_type": "code",
   "execution_count": 5,
   "metadata": {},
   "outputs": [],
   "source": [
    "def leap_year(year):\n",
    "    if year%400==0:\n",
    "        text_result=('YOU SHALL PASS')    \n",
    "         \n",
    "    if year%4==0 and year%100!=0:\n",
    "        text_result=('YOU SHALL PASS')      \n",
    "    else:    \n",
    "        text_result=('YOU SHALL NOT PASS')      \n",
    "    return text_result\n",
    "\n",
    "assert leap_year(5) == 'YOU SHALL NOT PASS'"
   ]
  },
  {
   "cell_type": "markdown",
   "metadata": {},
   "source": [
    "## Задача 3\n",
    "<img src=\"http://i0.kym-cdn.com/photos/images/original/001/187/255/5e9.gif\" width=300>\n",
    "Для могущественного магического ритуала Гендальфу необходимо быстро подсчитывать площадь своего амулета, который умеет менять размеры. Известно, что амулет имеет форму треугольника и Гендальф знает длину каждой из сторон. Напишите функцию, которая считает площадь амулета по трем сторонам.  \n",
    "\n",
    "Подсказка: используйте формулу Герона\n",
    "$$ S = \\sqrt{p(p-a)(p-b)(p-c)} $$\n",
    "$$ p = \\frac{a + b + c}{2}$$\n"
   ]
  },
  {
   "cell_type": "code",
   "execution_count": 4,
   "metadata": {},
   "outputs": [],
   "source": [
    "def amulet_area(a, b, c):\n",
    "    import math\n",
    "    P=(a+b+c)/2\n",
    "    S=math.sqrt(P*(P-a)*(P-b)*(P-c))\n",
    "    return S\n",
    "\n",
    "assert amulet_area(3, 4, 5) == 6"
   ]
  },
  {
   "cell_type": "markdown",
   "metadata": {},
   "source": [
    "## Задача 4\n",
    "\n",
    "Хоббиты собираются пешком идти до Мордора и им нужно подсчитать расстояние, которое им предстоит пройти. Хоббиты смогли вспомнить сразу несколько метрик расстояния: евклидово, манхэттена и косинусное, так что ваша задача - напистаь функцию под каждую из них. Важное условие - используйте только базовые функции numpy для решения.\n",
    "\n",
    "\n",
    "* Евклидово расстояние\n",
    "$$ d(a, b) = \\sqrt{\\sum_i (a_i - b_i)^2} $$\n",
    "* Расстояние Манхэттена\n",
    "$$ d(a, b) = \\sum_i |a_i - b_i| $$\n",
    "* Косинусное расстояние\n",
    "$$ d(a, b) = 1 - \\frac{a^\\top b}{||a||_2\\cdot||b||_2}$$"
   ]
  },
  {
   "cell_type": "code",
   "execution_count": 15,
   "metadata": {},
   "outputs": [],
   "source": [
    "import numpy as np\n",
    "from numpy import dot\n",
    "from numpy.linalg import norm\n",
    "def cal_euclidean(a, b):   \n",
    "    summary=np.sum(np.square(A-B) for A, B in zip(a,b))\n",
    "    distance=np.sqrt(summary)\n",
    "    return distance\n",
    "\n",
    "def cal_manhattan(a, b):    \n",
    "    distance=np.sum(np.abs(A-B) for A, B in zip(a,b))\n",
    "    return distance\n",
    "\n",
    "def cal_cosine(a, b):    \n",
    "    distance = a.dot(b) / (\n",
    "    np.linalg.norm(a, axis=1) * np.linalg.norm(b)\n",
    ")\n",
    "\n",
    "    return distance"
   ]
  },
  {
   "cell_type": "code",
   "execution_count": 13,
   "metadata": {},
   "outputs": [
    {
     "name": "stdout",
     "output_type": "stream",
     "text": [
      "21.02379604162864\n",
      "48\n",
      "0.447505593854885\n"
     ]
    },
    {
     "name": "stderr",
     "output_type": "stream",
     "text": [
      "C:\\Users\\Aisdg\\AppData\\Local\\Temp\\ipykernel_11144\\1670663334.py:8: DeprecationWarning: Calling np.sum(generator) is deprecated, and in the future will give a different result. Use np.sum(np.fromiter(generator)) or the python sum builtin instead.\n",
      "  summary=np.sum(np.square(A-B) for A, B in zip(a,b))\n",
      "C:\\Users\\Aisdg\\AppData\\Local\\Temp\\ipykernel_11144\\1670663334.py:13: DeprecationWarning: Calling np.sum(generator) is deprecated, and in the future will give a different result. Use np.sum(np.fromiter(generator)) or the python sum builtin instead.\n",
      "  distance=np.sum(np.abs(A-B) for A, B in zip(a,b))\n"
     ]
    }
   ],
   "source": [
    "a = np.random.randint(-10, 10, size=10)\n",
    "b = np.random.randint(-10, 10, size=10)\n",
    "print(cal_euclidean(a, b))\n",
    "print(cal_manhattan(a, b))\n",
    "print(cal_cosine(a, b))"
   ]
  },
  {
   "cell_type": "markdown",
   "metadata": {},
   "source": [
    "## Задача 5\n",
    "\n",
    "Ну и напоследок, еще немного практики numpy, без которой не обходится ни один хоббит.\n"
   ]
  },
  {
   "cell_type": "markdown",
   "metadata": {},
   "source": [
    "Создайте случайный array (`np.random.rand()`) длинной 100. Преобразуйте его так, чтобы\n",
    "* Максимальный элемент(ы) был равен 1\n",
    "* Минимальный элемент(ы) был равен 0\n",
    "* Остальные элементы в итнтервале от 0 до 1 остаются прежними"
   ]
  },
  {
   "cell_type": "code",
   "execution_count": 18,
   "metadata": {},
   "outputs": [
    {
     "name": "stdout",
     "output_type": "stream",
     "text": [
      "1.0 0.0\n",
      "[0.96735917 0.14867351 0.21193951 0.68023307 1.         0.12191009\n",
      " 0.79481474 0.96208392 0.49518296 0.52814141 0.21244542 0.02005679\n",
      " 0.04949203 0.93674862 0.59414378 0.07738922 0.08947325 0.49749154\n",
      " 0.14105083 0.58650348 0.51352848 0.07325109 0.50594638 0.13689237\n",
      " 0.93821951 0.43690514 0.47022313 0.95435885 0.25662036 0.88825562\n",
      " 0.77954145 0.34181787 0.89887705 0.45104339 0.68217563 0.42682594\n",
      " 0.23167409 0.16908093 0.70718726 0.33860549 0.37099756 0.13932749\n",
      " 0.01893237 0.33788563 0.60778132 0.02393322 0.50523906 0.7768187\n",
      " 0.8430911  0.60163863 0.2235376  0.98547742 0.07437743 0.72351671\n",
      " 0.65753794 0.08648971 0.7136733  0.08934541 0.9364817  0.02336251\n",
      " 0.90039288 0.0108137  0.78306276 0.63538771 0.60671203 0.12906856\n",
      " 0.51055968 0.65056569 0.20192919 0.51600756 0.86107198 0.21023758\n",
      " 0.97231937 0.1536816  0.01057839 0.56006703 0.92017318 0.60915689\n",
      " 0.12282094 0.7113019  0.91954272 0.93169076 0.00138088 0.12922258\n",
      " 0.19557757 0.2563206  0.2320227  0.43937983 0.59310495 0.82765984\n",
      " 0.46120461 0.8761932  0.42306657 0.08142637 0.02969173 0.66490023\n",
      " 0.02579624 0.04761244 0.         0.72429048]\n"
     ]
    }
   ],
   "source": [
    "my_array = np.random.rand(100)\n",
    "my_array[my_array==np.max(my_array) ] = 1\n",
    "my_array[my_array==np.min(my_array) ] = 0\n",
    "print(np.max(my_array), np.min(my_array))\n",
    "print(my_array)"
   ]
  },
  {
   "cell_type": "markdown",
   "metadata": {},
   "source": [
    "Создайте array размером $5 \\times 6$ с целыми числами в интервале [0,50]. Напечатайте колонку, которая содержит максимальный элемент полученной матрицы "
   ]
  },
  {
   "cell_type": "code",
   "execution_count": 30,
   "metadata": {},
   "outputs": [
    {
     "name": "stdout",
     "output_type": "stream",
     "text": [
      "Shape:  (5, 6)\n",
      "Array\n",
      "[[ 3 47 44 43 21 16]\n",
      " [30 38  2 14  6 35]\n",
      " [ 4 31 17 36 42 11]\n",
      " [29 45 31  8 37 32]\n",
      " [ 6 48 38 25 12 19]]\n",
      "[47 38 31 45 48]\n"
     ]
    }
   ],
   "source": [
    "my_array = np.random.randint(0, 50, size=(5, 6))\n",
    "x=np.argmax(my_array.max(axis=0))\n",
    "selected_column = my_array[:, x]\n",
    "print('Shape: ',my_array.shape)\n",
    "print('Array')\n",
    "print(my_array)\n",
    "print(selected_column)"
   ]
  },
  {
   "cell_type": "markdown",
   "metadata": {},
   "source": [
    "Напишите функцию, которая принимает на вход матрицу (array) X и возвращает все её уникальные строки в виде новой матрицы."
   ]
  },
  {
   "cell_type": "code",
   "execution_count": 33,
   "metadata": {},
   "outputs": [],
   "source": [
    "def get_unique_rows(X):\n",
    "    X_unique=np.unique(X, axis=0)\n",
    "\n",
    "    return X_unique"
   ]
  },
  {
   "cell_type": "code",
   "execution_count": 34,
   "metadata": {},
   "outputs": [
    {
     "name": "stdout",
     "output_type": "stream",
     "text": [
      "[[4 5 4]\n",
      " [4 5 4]\n",
      " [4 4 5]\n",
      " [5 4 5]\n",
      " [4 4 5]\n",
      " [5 4 4]\n",
      " [4 5 4]\n",
      " [5 4 4]\n",
      " [4 5 4]\n",
      " [4 4 5]]\n"
     ]
    }
   ],
   "source": [
    "X = np.random.randint(4, 6, size=(10,3))\n",
    "print(X)"
   ]
  },
  {
   "cell_type": "code",
   "execution_count": 35,
   "metadata": {},
   "outputs": [
    {
     "data": {
      "text/plain": [
       "array([[4, 4, 5],\n",
       "       [4, 5, 4],\n",
       "       [5, 4, 4],\n",
       "       [5, 4, 5]])"
      ]
     },
     "execution_count": 35,
     "metadata": {},
     "output_type": "execute_result"
    }
   ],
   "source": [
    "get_unique_rows(X)"
   ]
  }
 ],
 "metadata": {
  "kernelspec": {
   "display_name": "Python 3 (ipykernel)",
   "language": "python",
   "name": "python3"
  },
  "language_info": {
   "codemirror_mode": {
    "name": "ipython",
    "version": 3
   },
   "file_extension": ".py",
   "mimetype": "text/x-python",
   "name": "python",
   "nbconvert_exporter": "python",
   "pygments_lexer": "ipython3",
   "version": "3.9.13"
  },
  "varInspector": {
   "cols": {
    "lenName": 16,
    "lenType": 16,
    "lenVar": 40
   },
   "kernels_config": {
    "python": {
     "delete_cmd_postfix": "",
     "delete_cmd_prefix": "del ",
     "library": "var_list.py",
     "varRefreshCmd": "print(var_dic_list())"
    },
    "r": {
     "delete_cmd_postfix": ") ",
     "delete_cmd_prefix": "rm(",
     "library": "var_list.r",
     "varRefreshCmd": "cat(var_dic_list()) "
    }
   },
   "types_to_exclude": [
    "module",
    "function",
    "builtin_function_or_method",
    "instance",
    "_Feature"
   ],
   "window_display": false
  }
 },
 "nbformat": 4,
 "nbformat_minor": 2
}
